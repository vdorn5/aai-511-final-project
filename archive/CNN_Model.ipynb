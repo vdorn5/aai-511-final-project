{
 "cells": [
  {
   "cell_type": "markdown",
   "id": "55620443-ed17-4df4-bd85-418a49ef2e8c",
   "metadata": {},
   "source": [
    "<span style=\"font-size:28px; color:green\">CNN (Convolutional Neural Network)</span>"
   ]
  },
  {
   "cell_type": "markdown",
   "id": "f196baf1-4c24-4a67-8449-8d84fb2cb874",
   "metadata": {},
   "source": [
    "<p style=\"color:red\">\n",
    "We used a type of artificial intelligence called a convolutional neural network to help identify which composer created a piece of music based on its digital piano notes. First, we cleaned and organized the files, then turned the music into a grid-like format that a computer can understand. We trained the model to learn patterns from these musical pieces and tested it to see how well it could recognize different composers. The final results included how accurate the model was and where it made mistakes, which we showed in a chart.\n",
    "</p>"
   ]
  },
  {
   "cell_type": "code",
   "execution_count": 7,
   "id": "e3a3596f-de1d-4d64-acd4-88bb7c3383a3",
   "metadata": {},
   "outputs": [
    {
     "name": "stdout",
     "output_type": "stream",
     "text": [
      "Path: C:\\Users\\fenn3\\.cache\\kagglehub\\datasets\\blanderbuss\\midi-classic-music\\versions\\1\n",
      "Bach: C:\\Users\\fenn3\\.cache\\kagglehub\\datasets\\blanderbuss\\midi-classic-music\\versions\\1\\Bach\n",
      "Beethoven: C:\\Users\\fenn3\\.cache\\kagglehub\\datasets\\blanderbuss\\midi-classic-music\\versions\\1\\Beethoven\n",
      "Chopin: C:\\Users\\fenn3\\.cache\\kagglehub\\datasets\\blanderbuss\\midi-classic-music\\versions\\1\\Chopin\n",
      "Mozart: C:\\Users\\fenn3\\.cache\\kagglehub\\datasets\\blanderbuss\\midi-classic-music\\versions\\1\\Mozart\n",
      "Mozart: 298 files\n",
      "Chopin: 455 files\n",
      "Bach: 495 files\n",
      "Beethoven: 464 files\n"
     ]
    },
    {
     "name": "stderr",
     "output_type": "stream",
     "text": [
      "C:\\Users\\fenn3\\anaconda3\\Lib\\site-packages\\pretty_midi\\pretty_midi.py:100: RuntimeWarning: Tempo, Key or Time signature change events found on non-zero tracks.  This is not a valid type 0 or type 1 MIDI file.  Tempo, Key or Time Signature may be wrong.\n",
      "  warnings.warn(\n"
     ]
    },
    {
     "name": "stdout",
     "output_type": "stream",
     "text": [
      "Error with C:\\Users\\fenn3\\.cache\\kagglehub\\datasets\\blanderbuss\\midi-classic-music\\versions\\1\\train\\Beethoven\\Anhang 14-3.mid: Could not decode key with 3 flats and mode 255\n",
      "Error with C:\\Users\\fenn3\\.cache\\kagglehub\\datasets\\blanderbuss\\midi-classic-music\\versions\\1\\test\\Beethoven\\Anhang 14-3.mid: Could not decode key with 3 flats and mode 255\n"
     ]
    },
    {
     "name": "stderr",
     "output_type": "stream",
     "text": [
      "C:\\Users\\fenn3\\anaconda3\\Lib\\site-packages\\keras\\src\\layers\\convolutional\\base_conv.py:113: UserWarning: Do not pass an `input_shape`/`input_dim` argument to a layer. When using Sequential models, prefer using an `Input(shape)` object as the first layer in the model instead.\n",
      "  super().__init__(activity_regularizer=activity_regularizer, **kwargs)\n"
     ]
    },
    {
     "data": {
      "text/html": [
       "<pre style=\"white-space:pre;overflow-x:auto;line-height:normal;font-family:Menlo,'DejaVu Sans Mono',consolas,'Courier New',monospace\"><span style=\"font-weight: bold\">Model: \"sequential_1\"</span>\n",
       "</pre>\n"
      ],
      "text/plain": [
       "\u001b[1mModel: \"sequential_1\"\u001b[0m\n"
      ]
     },
     "metadata": {},
     "output_type": "display_data"
    },
    {
     "data": {
      "text/html": [
       "<pre style=\"white-space:pre;overflow-x:auto;line-height:normal;font-family:Menlo,'DejaVu Sans Mono',consolas,'Courier New',monospace\">┏━━━━━━━━━━━━━━━━━━━━━━━━━━━━━━━━━┳━━━━━━━━━━━━━━━━━━━━━━━━┳━━━━━━━━━━━━━━━┓\n",
       "┃<span style=\"font-weight: bold\"> Layer (type)                    </span>┃<span style=\"font-weight: bold\"> Output Shape           </span>┃<span style=\"font-weight: bold\">       Param # </span>┃\n",
       "┡━━━━━━━━━━━━━━━━━━━━━━━━━━━━━━━━━╇━━━━━━━━━━━━━━━━━━━━━━━━╇━━━━━━━━━━━━━━━┩\n",
       "│ conv2d_2 (<span style=\"color: #0087ff; text-decoration-color: #0087ff\">Conv2D</span>)               │ (<span style=\"color: #00d7ff; text-decoration-color: #00d7ff\">None</span>, <span style=\"color: #00af00; text-decoration-color: #00af00\">98</span>, <span style=\"color: #00af00; text-decoration-color: #00af00\">126</span>, <span style=\"color: #00af00; text-decoration-color: #00af00\">32</span>)    │           <span style=\"color: #00af00; text-decoration-color: #00af00\">320</span> │\n",
       "├─────────────────────────────────┼────────────────────────┼───────────────┤\n",
       "│ max_pooling2d_2 (<span style=\"color: #0087ff; text-decoration-color: #0087ff\">MaxPooling2D</span>)  │ (<span style=\"color: #00d7ff; text-decoration-color: #00d7ff\">None</span>, <span style=\"color: #00af00; text-decoration-color: #00af00\">49</span>, <span style=\"color: #00af00; text-decoration-color: #00af00\">63</span>, <span style=\"color: #00af00; text-decoration-color: #00af00\">32</span>)     │             <span style=\"color: #00af00; text-decoration-color: #00af00\">0</span> │\n",
       "├─────────────────────────────────┼────────────────────────┼───────────────┤\n",
       "│ conv2d_3 (<span style=\"color: #0087ff; text-decoration-color: #0087ff\">Conv2D</span>)               │ (<span style=\"color: #00d7ff; text-decoration-color: #00d7ff\">None</span>, <span style=\"color: #00af00; text-decoration-color: #00af00\">47</span>, <span style=\"color: #00af00; text-decoration-color: #00af00\">61</span>, <span style=\"color: #00af00; text-decoration-color: #00af00\">64</span>)     │        <span style=\"color: #00af00; text-decoration-color: #00af00\">18,496</span> │\n",
       "├─────────────────────────────────┼────────────────────────┼───────────────┤\n",
       "│ max_pooling2d_3 (<span style=\"color: #0087ff; text-decoration-color: #0087ff\">MaxPooling2D</span>)  │ (<span style=\"color: #00d7ff; text-decoration-color: #00d7ff\">None</span>, <span style=\"color: #00af00; text-decoration-color: #00af00\">23</span>, <span style=\"color: #00af00; text-decoration-color: #00af00\">30</span>, <span style=\"color: #00af00; text-decoration-color: #00af00\">64</span>)     │             <span style=\"color: #00af00; text-decoration-color: #00af00\">0</span> │\n",
       "├─────────────────────────────────┼────────────────────────┼───────────────┤\n",
       "│ flatten_1 (<span style=\"color: #0087ff; text-decoration-color: #0087ff\">Flatten</span>)             │ (<span style=\"color: #00d7ff; text-decoration-color: #00d7ff\">None</span>, <span style=\"color: #00af00; text-decoration-color: #00af00\">44160</span>)          │             <span style=\"color: #00af00; text-decoration-color: #00af00\">0</span> │\n",
       "├─────────────────────────────────┼────────────────────────┼───────────────┤\n",
       "│ dense_2 (<span style=\"color: #0087ff; text-decoration-color: #0087ff\">Dense</span>)                 │ (<span style=\"color: #00d7ff; text-decoration-color: #00d7ff\">None</span>, <span style=\"color: #00af00; text-decoration-color: #00af00\">64</span>)             │     <span style=\"color: #00af00; text-decoration-color: #00af00\">2,826,304</span> │\n",
       "├─────────────────────────────────┼────────────────────────┼───────────────┤\n",
       "│ dense_3 (<span style=\"color: #0087ff; text-decoration-color: #0087ff\">Dense</span>)                 │ (<span style=\"color: #00d7ff; text-decoration-color: #00d7ff\">None</span>, <span style=\"color: #00af00; text-decoration-color: #00af00\">4</span>)              │           <span style=\"color: #00af00; text-decoration-color: #00af00\">260</span> │\n",
       "└─────────────────────────────────┴────────────────────────┴───────────────┘\n",
       "</pre>\n"
      ],
      "text/plain": [
       "┏━━━━━━━━━━━━━━━━━━━━━━━━━━━━━━━━━┳━━━━━━━━━━━━━━━━━━━━━━━━┳━━━━━━━━━━━━━━━┓\n",
       "┃\u001b[1m \u001b[0m\u001b[1mLayer (type)                   \u001b[0m\u001b[1m \u001b[0m┃\u001b[1m \u001b[0m\u001b[1mOutput Shape          \u001b[0m\u001b[1m \u001b[0m┃\u001b[1m \u001b[0m\u001b[1m      Param #\u001b[0m\u001b[1m \u001b[0m┃\n",
       "┡━━━━━━━━━━━━━━━━━━━━━━━━━━━━━━━━━╇━━━━━━━━━━━━━━━━━━━━━━━━╇━━━━━━━━━━━━━━━┩\n",
       "│ conv2d_2 (\u001b[38;5;33mConv2D\u001b[0m)               │ (\u001b[38;5;45mNone\u001b[0m, \u001b[38;5;34m98\u001b[0m, \u001b[38;5;34m126\u001b[0m, \u001b[38;5;34m32\u001b[0m)    │           \u001b[38;5;34m320\u001b[0m │\n",
       "├─────────────────────────────────┼────────────────────────┼───────────────┤\n",
       "│ max_pooling2d_2 (\u001b[38;5;33mMaxPooling2D\u001b[0m)  │ (\u001b[38;5;45mNone\u001b[0m, \u001b[38;5;34m49\u001b[0m, \u001b[38;5;34m63\u001b[0m, \u001b[38;5;34m32\u001b[0m)     │             \u001b[38;5;34m0\u001b[0m │\n",
       "├─────────────────────────────────┼────────────────────────┼───────────────┤\n",
       "│ conv2d_3 (\u001b[38;5;33mConv2D\u001b[0m)               │ (\u001b[38;5;45mNone\u001b[0m, \u001b[38;5;34m47\u001b[0m, \u001b[38;5;34m61\u001b[0m, \u001b[38;5;34m64\u001b[0m)     │        \u001b[38;5;34m18,496\u001b[0m │\n",
       "├─────────────────────────────────┼────────────────────────┼───────────────┤\n",
       "│ max_pooling2d_3 (\u001b[38;5;33mMaxPooling2D\u001b[0m)  │ (\u001b[38;5;45mNone\u001b[0m, \u001b[38;5;34m23\u001b[0m, \u001b[38;5;34m30\u001b[0m, \u001b[38;5;34m64\u001b[0m)     │             \u001b[38;5;34m0\u001b[0m │\n",
       "├─────────────────────────────────┼────────────────────────┼───────────────┤\n",
       "│ flatten_1 (\u001b[38;5;33mFlatten\u001b[0m)             │ (\u001b[38;5;45mNone\u001b[0m, \u001b[38;5;34m44160\u001b[0m)          │             \u001b[38;5;34m0\u001b[0m │\n",
       "├─────────────────────────────────┼────────────────────────┼───────────────┤\n",
       "│ dense_2 (\u001b[38;5;33mDense\u001b[0m)                 │ (\u001b[38;5;45mNone\u001b[0m, \u001b[38;5;34m64\u001b[0m)             │     \u001b[38;5;34m2,826,304\u001b[0m │\n",
       "├─────────────────────────────────┼────────────────────────┼───────────────┤\n",
       "│ dense_3 (\u001b[38;5;33mDense\u001b[0m)                 │ (\u001b[38;5;45mNone\u001b[0m, \u001b[38;5;34m4\u001b[0m)              │           \u001b[38;5;34m260\u001b[0m │\n",
       "└─────────────────────────────────┴────────────────────────┴───────────────┘\n"
      ]
     },
     "metadata": {},
     "output_type": "display_data"
    },
    {
     "data": {
      "text/html": [
       "<pre style=\"white-space:pre;overflow-x:auto;line-height:normal;font-family:Menlo,'DejaVu Sans Mono',consolas,'Courier New',monospace\"><span style=\"font-weight: bold\"> Total params: </span><span style=\"color: #00af00; text-decoration-color: #00af00\">2,845,380</span> (10.85 MB)\n",
       "</pre>\n"
      ],
      "text/plain": [
       "\u001b[1m Total params: \u001b[0m\u001b[38;5;34m2,845,380\u001b[0m (10.85 MB)\n"
      ]
     },
     "metadata": {},
     "output_type": "display_data"
    },
    {
     "data": {
      "text/html": [
       "<pre style=\"white-space:pre;overflow-x:auto;line-height:normal;font-family:Menlo,'DejaVu Sans Mono',consolas,'Courier New',monospace\"><span style=\"font-weight: bold\"> Trainable params: </span><span style=\"color: #00af00; text-decoration-color: #00af00\">2,845,380</span> (10.85 MB)\n",
       "</pre>\n"
      ],
      "text/plain": [
       "\u001b[1m Trainable params: \u001b[0m\u001b[38;5;34m2,845,380\u001b[0m (10.85 MB)\n"
      ]
     },
     "metadata": {},
     "output_type": "display_data"
    },
    {
     "data": {
      "text/html": [
       "<pre style=\"white-space:pre;overflow-x:auto;line-height:normal;font-family:Menlo,'DejaVu Sans Mono',consolas,'Courier New',monospace\"><span style=\"font-weight: bold\"> Non-trainable params: </span><span style=\"color: #00af00; text-decoration-color: #00af00\">0</span> (0.00 B)\n",
       "</pre>\n"
      ],
      "text/plain": [
       "\u001b[1m Non-trainable params: \u001b[0m\u001b[38;5;34m0\u001b[0m (0.00 B)\n"
      ]
     },
     "metadata": {},
     "output_type": "display_data"
    },
    {
     "name": "stdout",
     "output_type": "stream",
     "text": [
      "Epoch 1/50\n",
      "\u001b[1m15/15\u001b[0m \u001b[32m━━━━━━━━━━━━━━━━━━━━\u001b[0m\u001b[37m\u001b[0m \u001b[1m2s\u001b[0m 75ms/step - accuracy: 0.2236 - loss: 15.1734 - val_accuracy: 0.3667 - val_loss: 1.4289\n",
      "Epoch 2/50\n",
      "\u001b[1m15/15\u001b[0m \u001b[32m━━━━━━━━━━━━━━━━━━━━\u001b[0m\u001b[37m\u001b[0m \u001b[1m1s\u001b[0m 61ms/step - accuracy: 0.3848 - loss: 1.3060 - val_accuracy: 0.6722 - val_loss: 1.1589\n",
      "Epoch 3/50\n",
      "\u001b[1m15/15\u001b[0m \u001b[32m━━━━━━━━━━━━━━━━━━━━\u001b[0m\u001b[37m\u001b[0m \u001b[1m1s\u001b[0m 58ms/step - accuracy: 0.6000 - loss: 1.0898 - val_accuracy: 0.7278 - val_loss: 0.8781\n",
      "Epoch 4/50\n",
      "\u001b[1m15/15\u001b[0m \u001b[32m━━━━━━━━━━━━━━━━━━━━\u001b[0m\u001b[37m\u001b[0m \u001b[1m1s\u001b[0m 59ms/step - accuracy: 0.7806 - loss: 0.7534 - val_accuracy: 0.8444 - val_loss: 0.6082\n",
      "Epoch 5/50\n",
      "\u001b[1m15/15\u001b[0m \u001b[32m━━━━━━━━━━━━━━━━━━━━\u001b[0m\u001b[37m\u001b[0m \u001b[1m1s\u001b[0m 57ms/step - accuracy: 0.8903 - loss: 0.3986 - val_accuracy: 0.9111 - val_loss: 0.4655\n",
      "Epoch 6/50\n",
      "\u001b[1m15/15\u001b[0m \u001b[32m━━━━━━━━━━━━━━━━━━━━\u001b[0m\u001b[37m\u001b[0m \u001b[1m1s\u001b[0m 57ms/step - accuracy: 0.9677 - loss: 0.1761 - val_accuracy: 0.9111 - val_loss: 0.5148\n",
      "Epoch 7/50\n",
      "\u001b[1m15/15\u001b[0m \u001b[32m━━━━━━━━━━━━━━━━━━━━\u001b[0m\u001b[37m\u001b[0m \u001b[1m1s\u001b[0m 57ms/step - accuracy: 0.9907 - loss: 0.0997 - val_accuracy: 0.9222 - val_loss: 0.4750\n",
      "Epoch 8/50\n",
      "\u001b[1m15/15\u001b[0m \u001b[32m━━━━━━━━━━━━━━━━━━━━\u001b[0m\u001b[37m\u001b[0m \u001b[1m1s\u001b[0m 57ms/step - accuracy: 0.9829 - loss: 0.1110 - val_accuracy: 0.9333 - val_loss: 0.4225\n",
      "Epoch 9/50\n",
      "\u001b[1m15/15\u001b[0m \u001b[32m━━━━━━━━━━━━━━━━━━━━\u001b[0m\u001b[37m\u001b[0m \u001b[1m1s\u001b[0m 57ms/step - accuracy: 0.9898 - loss: 0.0478 - val_accuracy: 0.9333 - val_loss: 0.4712\n",
      "Epoch 10/50\n",
      "\u001b[1m15/15\u001b[0m \u001b[32m━━━━━━━━━━━━━━━━━━━━\u001b[0m\u001b[37m\u001b[0m \u001b[1m1s\u001b[0m 57ms/step - accuracy: 0.9940 - loss: 0.0304 - val_accuracy: 0.9278 - val_loss: 0.5482\n",
      "Epoch 11/50\n",
      "\u001b[1m15/15\u001b[0m \u001b[32m━━━━━━━━━━━━━━━━━━━━\u001b[0m\u001b[37m\u001b[0m \u001b[1m1s\u001b[0m 56ms/step - accuracy: 0.9880 - loss: 0.0261 - val_accuracy: 0.9333 - val_loss: 0.5457\n",
      "Epoch 12/50\n",
      "\u001b[1m15/15\u001b[0m \u001b[32m━━━━━━━━━━━━━━━━━━━━\u001b[0m\u001b[37m\u001b[0m \u001b[1m1s\u001b[0m 56ms/step - accuracy: 0.9868 - loss: 0.0260 - val_accuracy: 0.9333 - val_loss: 0.5658\n",
      "Epoch 13/50\n",
      "\u001b[1m15/15\u001b[0m \u001b[32m━━━━━━━━━━━━━━━━━━━━\u001b[0m\u001b[37m\u001b[0m \u001b[1m1s\u001b[0m 57ms/step - accuracy: 0.9881 - loss: 0.0309 - val_accuracy: 0.9278 - val_loss: 0.5968\n",
      "\u001b[1m6/6\u001b[0m \u001b[32m━━━━━━━━━━━━━━━━━━━━\u001b[0m\u001b[37m\u001b[0m \u001b[1m0s\u001b[0m 27ms/step\n",
      "Classification Report:\n",
      "              precision    recall  f1-score   support\n",
      "\n",
      "        Bach       0.94      0.94      0.94        51\n",
      "   Beethoven       0.91      0.91      0.91        46\n",
      "      Chopin       0.92      0.96      0.94        51\n",
      "      Mozart       0.97      0.91      0.94        32\n",
      "\n",
      "    accuracy                           0.93       180\n",
      "   macro avg       0.94      0.93      0.93       180\n",
      "weighted avg       0.93      0.93      0.93       180\n",
      "\n"
     ]
    },
    {
     "data": {
      "image/png": "[encoded data removed]",
      "text/plain": [
       "<Figure size 800x800 with 2 Axes>"
      ]
     },
     "metadata": {},
     "output_type": "display_data"
    }
   ],
   "source": [
    "import os\n",
    "import numpy as np\n",
    "import pretty_midi\n",
    "import matplotlib.pyplot as plt\n",
    "import seaborn as sns\n",
    "\n",
    "from sklearn.preprocessing import LabelEncoder\n",
    "from sklearn.metrics import classification_report, confusion_matrix\n",
    "from tensorflow.keras.utils import to_categorical\n",
    "from tensorflow.keras.models import Sequential\n",
    "from tensorflow.keras.layers import Conv2D, MaxPooling2D, Flatten, Dense\n",
    "from tensorflow.keras.callbacks import EarlyStopping\n",
    "import kagglehub\n",
    "\n",
    "###################################################################################################\n",
    "### Composers is not defined before it is used as a variable\n",
    "\n",
    "import kagglehub\n",
    "import os\n",
    "import zipfile\n",
    "import mido\n",
    "import numpy as np\n",
    "import pandas as pd\n",
    "from collections import Counter\n",
    "import random\n",
    "from sklearn.model_selection import train_test_split\n",
    "import shutil\n",
    "\n",
    "# Downloading the dataset from Kagglehub\n",
    "path = kagglehub.dataset_download(\"blanderbuss/midi-classic-music\")\n",
    "print(\"Path:\", path)\n",
    "\n",
    "composers = [\"Mozart\", \"Chopin\", \"Bach\", \"Beethoven\"]\n",
    "\n",
    "# Looking for composers\n",
    "composer_paths = {}\n",
    "\n",
    "for item in os.listdir(path):\n",
    "    item_path = os.path.join(path, item)\n",
    "    if os.path.isdir(item_path):\n",
    "        for composer in composers:\n",
    "            if composer.lower() in item.lower():\n",
    "                composer_paths[composer] = item_path\n",
    "                print(f\"{composer}: {item_path}\")\n",
    "\n",
    "# Collecting all the files for each composer, including in subfolder\n",
    "def collect_composer_files(base_path, composers=['Mozart', 'Chopin', 'Bach', 'Beethoven']):\n",
    "    composer_files = {composer: [] for composer in composers}\n",
    "    \n",
    "    for root, dirs, files in os.walk(base_path):\n",
    "        current_dir = os.path.basename(root).lower()\n",
    "        for composer in composers:\n",
    "            if composer.lower() in current_dir:\n",
    "                # Collect MIDI files from this directory\n",
    "                midi_files = [os.path.join(root, f) for f in files] \n",
    "                composer_files[composer].extend(midi_files)\n",
    "                break  \n",
    "    \n",
    "    return composer_files\n",
    "\n",
    "composer_files_dict = collect_composer_files(path)\n",
    "\n",
    "for composer, files in composer_files_dict.items():\n",
    "    print(f\"{composer}: {len(files)} files\")\n",
    "\n",
    "random.seed(1)\n",
    "np.random.seed(1)\n",
    "\n",
    "# Creating train and test directories\n",
    "train_dir = os.path.join(path, 'train')\n",
    "test_dir = os.path.join(path, 'test')\n",
    "os.makedirs(train_dir, exist_ok=True)\n",
    "os.makedirs(test_dir, exist_ok=True)\n",
    "\n",
    "#################################################################################################\n",
    "\n",
    "# https://craffel.github.io/pretty-midi/\n",
    "\n",
    "def midi_to_piano_roll(file_path, time_resolution=0.05, width=100, height=128):\n",
    "    \"\"\"\n",
    "    Convert MIDI file into a fixed-size piano roll for input into the CNN model.\n",
    "    This function turns a MIDI file into a 2D array (time x pitch), where each\n",
    "    value represents how strongly a note is played at a given time step and pitch.\n",
    "    The result is padded or cropped to ensure all arrays are the same shape.\n",
    "    \"\"\"\n",
    "    try:\n",
    "        midi = pretty_midi.PrettyMIDI(file_path)     # Load the MIDI file\n",
    "        piano_roll = midi.get_piano_roll(fs=int(1 / time_resolution))  # 20 per second since 1 per second makes it difficult to catch fast notes\n",
    "        cropped = piano_roll[:height, :width]       # Crop to fixed height and width\n",
    "        padded = np.zeros((height, width))         # Create blank piano roll of desired size\n",
    "        padded[:cropped.shape[0], :cropped.shape[1]] = cropped   # Paste cropped roll onto blank canvas\n",
    "        return padded.T                    # Transpose to time and pitch so we can use it for CNN\n",
    "    except Exception as e:\n",
    "        print(f\"Error with {file_path}: {e}\")                    # Print any errors and skip the file, mostly because I did have some errors\n",
    "        return None                                              # Return None if something goes wrong\n",
    "\n",
    "\n",
    "def load_data(root_dir):\n",
    "    \"\"\"\n",
    "    Loads MIDI data from a directory structure where each subfolder represents a composer.\n",
    "    For each composer folder all midi files are processed into fixed size piano rolls using midi_to_piano_roll() that we just defined.\n",
    "\n",
    "    Returns:\n",
    "    X is the NumPy array of shape ready for CNN input.\n",
    "    y is the  NumPy array of composer labels.\n",
    "    \"\"\"\n",
    "    X, y = [], []  # Initialize lists for piano roll data and composer labels\n",
    "\n",
    "    for composer in os.listdir(root_dir):  # Loop through each composer \n",
    "        composer_dir = os.path.join(root_dir, composer)  # Build full path to the composer's folder\n",
    "        if os.path.isdir(composer_dir):  # Ensure it's a directory \n",
    "            for file in os.listdir(composer_dir):  # Loop through each file in the composer's folder\n",
    "                if file.endswith(\".mid\") or file.endswith(\".midi\"):  # Only process MIDI files, should all be but just in case\n",
    "                    file_path = os.path.join(composer_dir, file)  # Get full path to the MIDI file\n",
    "\n",
    "                    roll = midi_to_piano_roll(file_path)  # Convert MIDI to piano roll previously defined\n",
    "\n",
    "                    if roll is not None:  # Only include successfully processed files\n",
    "                        X.append(roll)  # Add piano roll data to input list\n",
    "                        y.append(composer)  # Add corresponding composer label\n",
    "\n",
    "    return np.array(X)[..., np.newaxis], np.array(y)  # Return arrays\n",
    "\n",
    "\n",
    "# Use the already existing train and test data\n",
    "X_train, y_train = load_data(train_dir)\n",
    "X_test, y_test = load_data(test_dir)\n",
    "\n",
    "# Match labels, think this was already done somewhere else but doing again just to save time\n",
    "label_encoder = LabelEncoder()\n",
    "y_train_enc = to_categorical(label_encoder.fit_transform(y_train))\n",
    "y_test_enc = to_categorical(label_encoder.transform(y_test))\n",
    "\n",
    "# Build a simple CNN model\n",
    "# https://keras.io/guides/sequential_model/\n",
    "model = Sequential([\n",
    "    Conv2D(32, (3, 3), activation=\"relu\", input_shape=(X_train.shape[1], X_train.shape[2], 1)),  # conv layer 1\n",
    "    MaxPooling2D((2, 2)),  # pooling 1\n",
    "    Conv2D(64, (3, 3), activation=\"relu\"),  # conv layer 2\n",
    "    MaxPooling2D((2, 2)),  # pooling 2\n",
    "    Flatten(),  # flatten to 1D\n",
    "    Dense(64, activation=\"relu\"),  # dense layer\n",
    "    Dense(len(label_encoder.classes_), activation=\"softmax\")])  # output layer, used softmax since we are using multiclass labels\n",
    "\n",
    "# Using Adam optimizer for efficient training, categorical crossentropy for multiclass labels, and accuracy to track performance\n",
    "model.compile(optimizer = \"adam\", loss = \"categorical_crossentropy\", metrics = [\"accuracy\"])\n",
    "model.summary()\n",
    "\n",
    "#Train and add early_stop so I know it is improving\n",
    "\n",
    "early_stop = EarlyStopping(patience=5, restore_best_weights=True)\n",
    "\n",
    "#https://www.tensorflow.org/api_docs/python/tf/keras/callbacks/History\n",
    "history = model.fit(\n",
    "    X_train, y_train_enc,\n",
    "    epochs=50,  #may be high, but find the stop usually only brings it out to about 10 anyway\n",
    "    batch_size = 32,  #tried multiple and this seems to perform best\n",
    "    validation_data=(X_test, y_test_enc), #maybe should also get validation data?\n",
    "    callbacks=[early_stop])\n",
    "\n",
    "# Evaluate performance\n",
    "y_pred_probs = model.predict(X_test)\n",
    "y_pred = np.argmax(y_pred_probs, axis=1)\n",
    "y_true = np.argmax(y_test_enc, axis=1)\n",
    "\n",
    "# Get performance metrics\n",
    "report = classification_report(y_true, y_pred, target_names=label_encoder.classes_, output_dict=True)\n",
    "conf_matrix = confusion_matrix(y_true, y_pred)\n",
    "\n",
    "# Save results for comparison later to the LSTM model\n",
    "cnn_results = {\n",
    "    \"classification_report\": report,\n",
    "    \"confusion_matrix\": conf_matrix.tolist(),\n",
    "    \"classes\": label_encoder.classes_.tolist()}\n",
    "\n",
    "# Show classification report\n",
    "print(\"Classification Report:\")\n",
    "print(classification_report(y_true, y_pred, target_names=label_encoder.classes_))\n",
    "\n",
    "# Visualize confusion matrix in green\n",
    "plt.figure(figsize=(8, 8))\n",
    "sns.heatmap(conf_matrix,annot = True, cmap=\"Greens\",  xticklabels = label_encoder.classes_, yticklabels = label_encoder.classes_)\n",
    "plt.xlabel(\"Predicted\")\n",
    "plt.ylabel(\"True\")\n",
    "plt.title(\"CNN Confusion Matrix\")\n",
    "plt.tight_layout()\n",
    "plt.show()"
   ]
  },
  {
   "cell_type": "code",
   "execution_count": null,
   "id": "8e69917e-4c13-41eb-915b-79eb2e4e9f16",
   "metadata": {},
   "outputs": [],
   "source": []
  }
 ],
 "metadata": {
  "kernelspec": {
   "display_name": "Python [conda env:base] *",
   "language": "python",
   "name": "conda-base-py"
  },
  "language_info": {
   "codemirror_mode": {
    "name": "ipython",
    "version": 3
   },
   "file_extension": ".py",
   "mimetype": "text/x-python",
   "name": "python",
   "nbconvert_exporter": "python",
   "pygments_lexer": "ipython3",
   "version": "3.12.7"
  }
 },
 "nbformat": 4,
 "nbformat_minor": 5
}
