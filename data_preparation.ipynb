{
 "cells": [
  {
   "cell_type": "code",
   "execution_count": null,
   "id": "1d9ff5b7-95b4-477f-9fd6-50d2d1a7f89a",
   "metadata": {},
   "outputs": [],
   "source": [
    "# In this notebook we'll be looking at the dataset, extracting the files we need from the compressed zip file, narrowing our focus down to the four composers we care about for this assignment, and putting the files for each composer into train and test folders."
   ]
  },
  {
   "cell_type": "code",
<<<<<<< HEAD
   "execution_count": 3,
=======
   "execution_count": 25,
>>>>>>> origin/main
   "id": "63220e8a-9dc5-4bdd-9564-a3249d0bfd60",
   "metadata": {},
   "outputs": [],
   "source": [
    "# Capturing the libraries that may be needed\n",
    "import kagglehub\n",
    "import os\n",
    "import zipfile\n",
    "import mido\n",
    "import numpy as np\n",
    "import pandas as pd\n",
    "from collections import Counter\n",
    "import random\n",
    "from sklearn.model_selection import train_test_split\n",
    "import shutil"
   ]
  },
  {
   "cell_type": "code",
   "execution_count": 18,
   "id": "5586aa69-81b9-493e-8682-a89e0519d549",
   "metadata": {},
   "outputs": [
    {
     "name": "stdout",
     "output_type": "stream",
     "text": [
      "Path: /Users/steve/.cache/kagglehub/datasets/blanderbuss/midi-classic-music/versions/1\n"
     ]
    }
   ],
   "source": [
    "# Downloading the dataset from Kagglehub\n",
    "path = kagglehub.dataset_download(\"blanderbuss/midi-classic-music\")\n",
    "print(\"Path:\", path)"
   ]
  },
  {
   "cell_type": "code",
   "execution_count": 19,
   "id": "2865e9ff-abd2-4ec1-99d3-3b060c54db5e",
   "metadata": {},
   "outputs": [],
   "source": [
    "# Extracting the folders we need from the zip file\n",
    "zip_path = os.path.join(path, \"midiclassics.zip\")\n",
    "with zipfile.ZipFile(zip_path, 'r') as zip_ref:\n",
    "    zip_ref.extractall(path)"
   ]
  },
  {
   "cell_type": "code",
   "execution_count": 24,
   "id": "dfe576a1-82ee-4d9f-847a-3f5ad301cbad",
   "metadata": {},
   "outputs": [
    {
     "name": "stdout",
     "output_type": "stream",
     "text": [
      "Mozart: /Users/steve/.cache/kagglehub/datasets/blanderbuss/midi-classic-music/versions/1/Mozart\n",
      "Chopin: /Users/steve/.cache/kagglehub/datasets/blanderbuss/midi-classic-music/versions/1/Chopin\n",
      "Beethoven: /Users/steve/.cache/kagglehub/datasets/blanderbuss/midi-classic-music/versions/1/Beethoven\n",
      "Bach: /Users/steve/.cache/kagglehub/datasets/blanderbuss/midi-classic-music/versions/1/Bach\n"
     ]
    }
   ],
   "source": [
    "# Looking for composers\n",
    "composer_paths = {}\n",
    "\n",
    "for item in os.listdir(path):\n",
    "    item_path = os.path.join(path, item)\n",
    "    if os.path.isdir(item_path):\n",
    "        for composer in composers:\n",
    "            if composer.lower() in item.lower():\n",
    "                composer_paths[composer] = item_path\n",
    "                print(f\"{composer}: {item_path}\")"
   ]
  },
  {
   "cell_type": "code",
   "execution_count": 28,
   "id": "6835e086-0eb7-40e4-8be3-acf64ecb5797",
   "metadata": {},
   "outputs": [
    {
     "name": "stdout",
     "output_type": "stream",
     "text": [
      "Mozart: 180 files\n",
      "Chopin: 272 files\n",
      "Bach: 296 files\n",
      "Beethoven: 280 files\n"
     ]
    }
   ],
   "source": [
    "# Collecting all the files for each composer, including in subfolder\n",
    "def collect_composer_files(base_path, composers=['Mozart', 'Chopin', 'Bach', 'Beethoven']):\n",
    "    composer_files = {composer: [] for composer in composers}\n",
    "    \n",
    "    for root, dirs, files in os.walk(base_path):\n",
    "        current_dir = os.path.basename(root).lower()\n",
    "        for composer in composers:\n",
    "            if composer.lower() in current_dir:\n",
    "                # Collect MIDI files from this directory\n",
    "                midi_files = [os.path.join(root, f) for f in files] \n",
    "                composer_files[composer].extend(midi_files)\n",
    "                break  \n",
    "    \n",
    "    return composer_files\n",
    "\n",
    "composer_files_dict = collect_composer_files(path)\n",
    "\n",
    "for composer, files in composer_files_dict.items():\n",
    "    print(f\"{composer}: {len(files)} files\")"
   ]
  },
  {
   "cell_type": "code",
   "execution_count": 30,
   "id": "f27137fa-7a75-4d91-ab18-548e5f9754fd",
   "metadata": {},
   "outputs": [],
   "source": [
    "# In this instance we'll split our data into train and test sets before doing any feature analysis, to ensure we're avoiding leakage.\n",
    "\n",
    "# Setting random seed for reproducibility\n",
    "random.seed(42)\n",
    "np.random.seed(42)\n",
    "\n",
    "# Creating train and test directories\n",
    "train_dir = os.path.join(path, 'train')\n",
    "test_dir = os.path.join(path, 'test')\n",
    "os.makedirs(train_dir, exist_ok=True)\n",
    "os.makedirs(test_dir, exist_ok=True)"
   ]
  },
  {
   "cell_type": "code",
   "execution_count": 33,
   "id": "d36cfb7f-2087-491c-ba5e-a44e7f3d5bca",
   "metadata": {},
   "outputs": [
    {
     "name": "stdout",
     "output_type": "stream",
     "text": [
      "Train directory: /Users/steve/.cache/kagglehub/datasets/blanderbuss/midi-classic-music/versions/1/train\n",
      "Test directory: /Users/steve/.cache/kagglehub/datasets/blanderbuss/midi-classic-music/versions/1/test\n"
     ]
    }
   ],
   "source": [
    "# Splitting files for each composer and copy to train/test directories\n",
    "test_size = 0.2 \n",
    "\n",
    "for composer, files in composer_files_dict.items():\n",
    "    train_files, test_files = train_test_split(\n",
    "        files, \n",
    "        test_size=test_size, \n",
    "        random_state=42\n",
    "    )\n",
    "    \n",
    "    # Creating composer subdirectories in train and test\n",
    "    composer_train_dir = os.path.join(train_dir, composer)\n",
    "    composer_test_dir = os.path.join(test_dir, composer)\n",
    "    os.makedirs(composer_train_dir, exist_ok=True)\n",
    "    os.makedirs(composer_test_dir, exist_ok=True)\n",
    "    \n",
    "    # Copying files to train directory\n",
    "    for file_path in train_files:\n",
    "        filename = os.path.basename(file_path)\n",
    "        shutil.copy2(file_path, os.path.join(composer_train_dir, filename))\n",
    "    \n",
    "    # Copying files to test directory\n",
    "    for file_path in test_files:\n",
    "        filename = os.path.basename(file_path)\n",
    "        shutil.copy2(file_path, os.path.join(composer_test_dir, filename))\n",
    "\n",
    "# Printing new paths:\n",
    "print(f\"Train directory: {train_dir}\")\n",
    "print(f\"Test directory: {test_dir}\")"
   ]
  },
  {
   "cell_type": "code",
   "execution_count": null,
   "id": "2b356bbc-e308-4583-a4fa-f89608776d4f",
   "metadata": {},
   "outputs": [],
   "source": [
    "# At this point we have created the train and test folders we needed - these will be uploaded to GitHub, and then used in a separate notebook for feature analysis."
   ]
  }
 ],
 "metadata": {
  "kernelspec": {
<<<<<<< HEAD
   "display_name": "Python 3",
=======
   "display_name": "Python 3 (ipykernel)",
>>>>>>> origin/main
   "language": "python",
   "name": "python3"
  },
  "language_info": {
   "codemirror_mode": {
    "name": "ipython",
    "version": 3
   },
   "file_extension": ".py",
   "mimetype": "text/x-python",
   "name": "python",
   "nbconvert_exporter": "python",
   "pygments_lexer": "ipython3",
<<<<<<< HEAD
   "version": "3.11.13"
=======
   "version": "3.12.6"
>>>>>>> origin/main
  }
 },
 "nbformat": 4,
 "nbformat_minor": 5
}
