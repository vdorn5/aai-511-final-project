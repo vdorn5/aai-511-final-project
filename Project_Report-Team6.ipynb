{
 "cells": [
  {
   "cell_type": "markdown",
   "id": "2e773cf8-1a02-4996-8d57-5cbda4c3a157",
   "metadata": {},
   "source": [
    "<span style=\"font-size:32px; color:blue\">Project_Report_Team-6</span>"
   ]
  },
  {
   "cell_type": "markdown",
   "id": "fc9e4e9a-12f1-49d1-a74c-bd6b19514d60",
   "metadata": {},
   "source": [
    "<p><span style=\"font-size:18px; font-weight:bold\">Completed by:</span></p>\n",
    "<ul>\n",
    "  <li><span style=\"color:blue\">Victoria Dorn</span></li>\n",
    "  <li><span style=\"color:blue\">Stephen Farmer</span></li>\n",
    "  <li><span style=\"color:blue\">Andrew Fennimore</span></li>\n",
    "</ul>\n",
    "\n",
    "<p><a href=\"https://github.com/vdorn5/aai-511-final-project\" target=\"_blank\" style=\"font-size:16px; color:purple\">View our GitHub Project Repository</a></p>"
   ]
  },
  {
   "cell_type": "markdown",
   "id": "2e01022a-7f02-4d22-bccd-8aa65b301e59",
   "metadata": {},
   "source": [
    "<span style=\"font-size:28px; color:green\">Data Preprocessing</span>"
   ]
  },
  {
   "cell_type": "code",
   "execution_count": 4,
   "id": "63220e8a-9dc5-4bdd-9564-a3249d0bfd60",
   "metadata": {},
   "outputs": [],
   "source": [
    "# Capturing the libraries that may be needed\n",
    "import kagglehub\n",
    "import os\n",
    "import zipfile\n",
    "import mido\n",
    "import numpy as np\n",
    "import pandas as pd\n",
    "from collections import Counter\n",
    "import random\n",
    "from sklearn.model_selection import train_test_split\n",
    "import shutil"
   ]
  },
  {
   "cell_type": "code",
   "execution_count": 5,
   "id": "5586aa69-81b9-493e-8682-a89e0519d549",
   "metadata": {},
   "outputs": [
    {
     "name": "stdout",
     "output_type": "stream",
     "text": [
      "Downloading from https://www.kaggle.com/api/v1/datasets/download/blanderbuss/midi-classic-music?dataset_version_number=1...\n"
     ]
    },
    {
     "name": "stderr",
     "output_type": "stream",
     "text": [
      "100%|██████████| 68.2M/68.2M [00:03<00:00, 22.0MB/s]"
     ]
    },
    {
     "name": "stdout",
     "output_type": "stream",
     "text": [
      "Extracting files...\n"
     ]
    },
    {
     "name": "stderr",
     "output_type": "stream",
     "text": [
      "\n"
     ]
    },
    {
     "name": "stdout",
     "output_type": "stream",
     "text": [
      "Path: C:\\Users\\fenn3\\.cache\\kagglehub\\datasets\\blanderbuss\\midi-classic-music\\versions\\1\n"
     ]
    }
   ],
   "source": [
    "# Downloading the dataset from Kagglehub\n",
    "path = kagglehub.dataset_download(\"blanderbuss/midi-classic-music\")\n",
    "print(\"Path:\", path)"
   ]
  },
  {
   "cell_type": "code",
   "execution_count": 14,
   "id": "dfe576a1-82ee-4d9f-847a-3f5ad301cbad",
   "metadata": {},
   "outputs": [
    {
     "name": "stdout",
     "output_type": "stream",
     "text": [
      "Albéniz: C:\\Users\\fenn3\\.cache\\kagglehub\\datasets\\blanderbuss\\midi-classic-music\\versions\\1\\Albéniz\n",
      "Albe╠üniz: C:\\Users\\fenn3\\.cache\\kagglehub\\datasets\\blanderbuss\\midi-classic-music\\versions\\1\\Albe╠üniz\n",
      "Alkan: C:\\Users\\fenn3\\.cache\\kagglehub\\datasets\\blanderbuss\\midi-classic-music\\versions\\1\\Alkan\n",
      "Ambroise: C:\\Users\\fenn3\\.cache\\kagglehub\\datasets\\blanderbuss\\midi-classic-music\\versions\\1\\Ambroise\n",
      "Arensky: C:\\Users\\fenn3\\.cache\\kagglehub\\datasets\\blanderbuss\\midi-classic-music\\versions\\1\\Arensky\n",
      "Arndt: C:\\Users\\fenn3\\.cache\\kagglehub\\datasets\\blanderbuss\\midi-classic-music\\versions\\1\\Arndt\n",
      "Bacewitz: C:\\Users\\fenn3\\.cache\\kagglehub\\datasets\\blanderbuss\\midi-classic-music\\versions\\1\\Bacewitz\n",
      "Bach: C:\\Users\\fenn3\\.cache\\kagglehub\\datasets\\blanderbuss\\midi-classic-music\\versions\\1\\Bach\n",
      "Barber: C:\\Users\\fenn3\\.cache\\kagglehub\\datasets\\blanderbuss\\midi-classic-music\\versions\\1\\Barber\n",
      "Bartelet: C:\\Users\\fenn3\\.cache\\kagglehub\\datasets\\blanderbuss\\midi-classic-music\\versions\\1\\Bartelet\n",
      "Bartok: C:\\Users\\fenn3\\.cache\\kagglehub\\datasets\\blanderbuss\\midi-classic-music\\versions\\1\\Bartok\n",
      "Becker: C:\\Users\\fenn3\\.cache\\kagglehub\\datasets\\blanderbuss\\midi-classic-music\\versions\\1\\Becker\n",
      "Beethoven: C:\\Users\\fenn3\\.cache\\kagglehub\\datasets\\blanderbuss\\midi-classic-music\\versions\\1\\Beethoven\n",
      "Bellini: C:\\Users\\fenn3\\.cache\\kagglehub\\datasets\\blanderbuss\\midi-classic-music\\versions\\1\\Bellini\n",
      "Berlin: C:\\Users\\fenn3\\.cache\\kagglehub\\datasets\\blanderbuss\\midi-classic-music\\versions\\1\\Berlin\n",
      "Bernstein: C:\\Users\\fenn3\\.cache\\kagglehub\\datasets\\blanderbuss\\midi-classic-music\\versions\\1\\Bernstein\n",
      "Borodin: C:\\Users\\fenn3\\.cache\\kagglehub\\datasets\\blanderbuss\\midi-classic-music\\versions\\1\\Borodin\n",
      "Botsford: C:\\Users\\fenn3\\.cache\\kagglehub\\datasets\\blanderbuss\\midi-classic-music\\versions\\1\\Botsford\n",
      "Brahms: C:\\Users\\fenn3\\.cache\\kagglehub\\datasets\\blanderbuss\\midi-classic-music\\versions\\1\\Brahms\n",
      "Burgmuller: C:\\Users\\fenn3\\.cache\\kagglehub\\datasets\\blanderbuss\\midi-classic-music\\versions\\1\\Burgmuller\n",
      "Busoni: C:\\Users\\fenn3\\.cache\\kagglehub\\datasets\\blanderbuss\\midi-classic-music\\versions\\1\\Busoni\n",
      "Busser: C:\\Users\\fenn3\\.cache\\kagglehub\\datasets\\blanderbuss\\midi-classic-music\\versions\\1\\Busser\n",
      "Buxehude: C:\\Users\\fenn3\\.cache\\kagglehub\\datasets\\blanderbuss\\midi-classic-music\\versions\\1\\Buxehude\n",
      "Chabrier: C:\\Users\\fenn3\\.cache\\kagglehub\\datasets\\blanderbuss\\midi-classic-music\\versions\\1\\Chabrier\n",
      "Chaminade: C:\\Users\\fenn3\\.cache\\kagglehub\\datasets\\blanderbuss\\midi-classic-music\\versions\\1\\Chaminade\n",
      "Chasins: C:\\Users\\fenn3\\.cache\\kagglehub\\datasets\\blanderbuss\\midi-classic-music\\versions\\1\\Chasins\n",
      "Chopin: C:\\Users\\fenn3\\.cache\\kagglehub\\datasets\\blanderbuss\\midi-classic-music\\versions\\1\\Chopin\n",
      "Clarke: C:\\Users\\fenn3\\.cache\\kagglehub\\datasets\\blanderbuss\\midi-classic-music\\versions\\1\\Clarke\n",
      "Clementi: C:\\Users\\fenn3\\.cache\\kagglehub\\datasets\\blanderbuss\\midi-classic-music\\versions\\1\\Clementi\n",
      "Coates: C:\\Users\\fenn3\\.cache\\kagglehub\\datasets\\blanderbuss\\midi-classic-music\\versions\\1\\Coates\n",
      "Coleridge-Taylor: C:\\Users\\fenn3\\.cache\\kagglehub\\datasets\\blanderbuss\\midi-classic-music\\versions\\1\\Coleridge-Taylor\n",
      "Cons: C:\\Users\\fenn3\\.cache\\kagglehub\\datasets\\blanderbuss\\midi-classic-music\\versions\\1\\Cons\n",
      "Copland: C:\\Users\\fenn3\\.cache\\kagglehub\\datasets\\blanderbuss\\midi-classic-music\\versions\\1\\Copland\n",
      "Couperin: C:\\Users\\fenn3\\.cache\\kagglehub\\datasets\\blanderbuss\\midi-classic-music\\versions\\1\\Couperin\n",
      "Cramer: C:\\Users\\fenn3\\.cache\\kagglehub\\datasets\\blanderbuss\\midi-classic-music\\versions\\1\\Cramer\n",
      "Czerny: C:\\Users\\fenn3\\.cache\\kagglehub\\datasets\\blanderbuss\\midi-classic-music\\versions\\1\\Czerny\n",
      "Czibulka: C:\\Users\\fenn3\\.cache\\kagglehub\\datasets\\blanderbuss\\midi-classic-music\\versions\\1\\Czibulka\n",
      "Debussy: C:\\Users\\fenn3\\.cache\\kagglehub\\datasets\\blanderbuss\\midi-classic-music\\versions\\1\\Debussy\n",
      "Durand, E: C:\\Users\\fenn3\\.cache\\kagglehub\\datasets\\blanderbuss\\midi-classic-music\\versions\\1\\Durand, E\n",
      "Durand, MA: C:\\Users\\fenn3\\.cache\\kagglehub\\datasets\\blanderbuss\\midi-classic-music\\versions\\1\\Durand, MA\n",
      "Dussek: C:\\Users\\fenn3\\.cache\\kagglehub\\datasets\\blanderbuss\\midi-classic-music\\versions\\1\\Dussek\n",
      "Dvorak: C:\\Users\\fenn3\\.cache\\kagglehub\\datasets\\blanderbuss\\midi-classic-music\\versions\\1\\Dvorak\n",
      "Faure: C:\\Users\\fenn3\\.cache\\kagglehub\\datasets\\blanderbuss\\midi-classic-music\\versions\\1\\Faure\n",
      "Field: C:\\Users\\fenn3\\.cache\\kagglehub\\datasets\\blanderbuss\\midi-classic-music\\versions\\1\\Field\n",
      "Finck: C:\\Users\\fenn3\\.cache\\kagglehub\\datasets\\blanderbuss\\midi-classic-music\\versions\\1\\Finck\n",
      "Flotow: C:\\Users\\fenn3\\.cache\\kagglehub\\datasets\\blanderbuss\\midi-classic-music\\versions\\1\\Flotow\n",
      "Franck: C:\\Users\\fenn3\\.cache\\kagglehub\\datasets\\blanderbuss\\midi-classic-music\\versions\\1\\Franck\n",
      "Frescobaldi: C:\\Users\\fenn3\\.cache\\kagglehub\\datasets\\blanderbuss\\midi-classic-music\\versions\\1\\Frescobaldi\n",
      "Friedman: C:\\Users\\fenn3\\.cache\\kagglehub\\datasets\\blanderbuss\\midi-classic-music\\versions\\1\\Friedman\n",
      "Fucick: C:\\Users\\fenn3\\.cache\\kagglehub\\datasets\\blanderbuss\\midi-classic-music\\versions\\1\\Fucick\n",
      "Ganne: C:\\Users\\fenn3\\.cache\\kagglehub\\datasets\\blanderbuss\\midi-classic-music\\versions\\1\\Ganne\n",
      "German: C:\\Users\\fenn3\\.cache\\kagglehub\\datasets\\blanderbuss\\midi-classic-music\\versions\\1\\German\n",
      "Gershwin: C:\\Users\\fenn3\\.cache\\kagglehub\\datasets\\blanderbuss\\midi-classic-music\\versions\\1\\Gershwin\n",
      "Ginastera: C:\\Users\\fenn3\\.cache\\kagglehub\\datasets\\blanderbuss\\midi-classic-music\\versions\\1\\Ginastera\n",
      "Gottschalk: C:\\Users\\fenn3\\.cache\\kagglehub\\datasets\\blanderbuss\\midi-classic-music\\versions\\1\\Gottschalk\n",
      "Grainger: C:\\Users\\fenn3\\.cache\\kagglehub\\datasets\\blanderbuss\\midi-classic-music\\versions\\1\\Grainger\n",
      "Grieg: C:\\Users\\fenn3\\.cache\\kagglehub\\datasets\\blanderbuss\\midi-classic-music\\versions\\1\\Grieg\n",
      "Griffes: C:\\Users\\fenn3\\.cache\\kagglehub\\datasets\\blanderbuss\\midi-classic-music\\versions\\1\\Griffes\n",
      "Haendel: C:\\Users\\fenn3\\.cache\\kagglehub\\datasets\\blanderbuss\\midi-classic-music\\versions\\1\\Haendel\n",
      "Handel: C:\\Users\\fenn3\\.cache\\kagglehub\\datasets\\blanderbuss\\midi-classic-music\\versions\\1\\Handel\n",
      "Haydn: C:\\Users\\fenn3\\.cache\\kagglehub\\datasets\\blanderbuss\\midi-classic-music\\versions\\1\\Haydn\n",
      "Heidrich: C:\\Users\\fenn3\\.cache\\kagglehub\\datasets\\blanderbuss\\midi-classic-music\\versions\\1\\Heidrich\n",
      "Heller: C:\\Users\\fenn3\\.cache\\kagglehub\\datasets\\blanderbuss\\midi-classic-music\\versions\\1\\Heller\n",
      "Hemery: C:\\Users\\fenn3\\.cache\\kagglehub\\datasets\\blanderbuss\\midi-classic-music\\versions\\1\\Hemery\n",
      "Herold: C:\\Users\\fenn3\\.cache\\kagglehub\\datasets\\blanderbuss\\midi-classic-music\\versions\\1\\Herold\n",
      "Hiller: C:\\Users\\fenn3\\.cache\\kagglehub\\datasets\\blanderbuss\\midi-classic-music\\versions\\1\\Hiller\n",
      "Holst: C:\\Users\\fenn3\\.cache\\kagglehub\\datasets\\blanderbuss\\midi-classic-music\\versions\\1\\Holst\n",
      "Holst: C:\\Users\\fenn3\\.cache\\kagglehub\\datasets\\blanderbuss\\midi-classic-music\\versions\\1\\Holst, M\n",
      "Holst, M: C:\\Users\\fenn3\\.cache\\kagglehub\\datasets\\blanderbuss\\midi-classic-music\\versions\\1\\Holst, M\n",
      "Hummel: C:\\Users\\fenn3\\.cache\\kagglehub\\datasets\\blanderbuss\\midi-classic-music\\versions\\1\\Hummel\n",
      "Ivanovici: C:\\Users\\fenn3\\.cache\\kagglehub\\datasets\\blanderbuss\\midi-classic-music\\versions\\1\\Ivanovici\n",
      "Jakobowski: C:\\Users\\fenn3\\.cache\\kagglehub\\datasets\\blanderbuss\\midi-classic-music\\versions\\1\\Jakobowski\n",
      "Jensen: C:\\Users\\fenn3\\.cache\\kagglehub\\datasets\\blanderbuss\\midi-classic-music\\versions\\1\\Jensen\n",
      "Joplin: C:\\Users\\fenn3\\.cache\\kagglehub\\datasets\\blanderbuss\\midi-classic-music\\versions\\1\\Joplin\n",
      "Katzwarra: C:\\Users\\fenn3\\.cache\\kagglehub\\datasets\\blanderbuss\\midi-classic-music\\versions\\1\\Katzwarra\n",
      "Komzak: C:\\Users\\fenn3\\.cache\\kagglehub\\datasets\\blanderbuss\\midi-classic-music\\versions\\1\\Komzak\n",
      "Kuhlau: C:\\Users\\fenn3\\.cache\\kagglehub\\datasets\\blanderbuss\\midi-classic-music\\versions\\1\\Kuhlau\n",
      "Lange: C:\\Users\\fenn3\\.cache\\kagglehub\\datasets\\blanderbuss\\midi-classic-music\\versions\\1\\Lange\n",
      "Laurent: C:\\Users\\fenn3\\.cache\\kagglehub\\datasets\\blanderbuss\\midi-classic-music\\versions\\1\\Laurent\n",
      "Lavallee: C:\\Users\\fenn3\\.cache\\kagglehub\\datasets\\blanderbuss\\midi-classic-music\\versions\\1\\Lavallee\n",
      "Le Thiere: C:\\Users\\fenn3\\.cache\\kagglehub\\datasets\\blanderbuss\\midi-classic-music\\versions\\1\\Le Thiere\n",
      "Lecuona: C:\\Users\\fenn3\\.cache\\kagglehub\\datasets\\blanderbuss\\midi-classic-music\\versions\\1\\Lecuona\n",
      "Lemire: C:\\Users\\fenn3\\.cache\\kagglehub\\datasets\\blanderbuss\\midi-classic-music\\versions\\1\\Lemire\n",
      "Liszt: C:\\Users\\fenn3\\.cache\\kagglehub\\datasets\\blanderbuss\\midi-classic-music\\versions\\1\\Liszt\n",
      "Lyssenko: C:\\Users\\fenn3\\.cache\\kagglehub\\datasets\\blanderbuss\\midi-classic-music\\versions\\1\\Lyssenko\n",
      "MacBeth: C:\\Users\\fenn3\\.cache\\kagglehub\\datasets\\blanderbuss\\midi-classic-music\\versions\\1\\MacBeth\n",
      "MacCunn: C:\\Users\\fenn3\\.cache\\kagglehub\\datasets\\blanderbuss\\midi-classic-music\\versions\\1\\MacCunn\n",
      "Maier: C:\\Users\\fenn3\\.cache\\kagglehub\\datasets\\blanderbuss\\midi-classic-music\\versions\\1\\Maier\n",
      "Mehul: C:\\Users\\fenn3\\.cache\\kagglehub\\datasets\\blanderbuss\\midi-classic-music\\versions\\1\\Mehul\n",
      "Mendelsonn: C:\\Users\\fenn3\\.cache\\kagglehub\\datasets\\blanderbuss\\midi-classic-music\\versions\\1\\Mendelsonn\n",
      "Mendelssohn: C:\\Users\\fenn3\\.cache\\kagglehub\\datasets\\blanderbuss\\midi-classic-music\\versions\\1\\Mendelssohn\n",
      "Messager: C:\\Users\\fenn3\\.cache\\kagglehub\\datasets\\blanderbuss\\midi-classic-music\\versions\\1\\Messager\n",
      "Meyerbeer: C:\\Users\\fenn3\\.cache\\kagglehub\\datasets\\blanderbuss\\midi-classic-music\\versions\\1\\Meyerbeer\n",
      "midiclassics: C:\\Users\\fenn3\\.cache\\kagglehub\\datasets\\blanderbuss\\midi-classic-music\\versions\\1\\midiclassics\n",
      "Morel: C:\\Users\\fenn3\\.cache\\kagglehub\\datasets\\blanderbuss\\midi-classic-music\\versions\\1\\Morel\n",
      "Moszkowski: C:\\Users\\fenn3\\.cache\\kagglehub\\datasets\\blanderbuss\\midi-classic-music\\versions\\1\\Moszkowski\n",
      "Mozart: C:\\Users\\fenn3\\.cache\\kagglehub\\datasets\\blanderbuss\\midi-classic-music\\versions\\1\\Mozart\n",
      "Mussorgski: C:\\Users\\fenn3\\.cache\\kagglehub\\datasets\\blanderbuss\\midi-classic-music\\versions\\1\\Mussorgski\n",
      "Pachelbel: C:\\Users\\fenn3\\.cache\\kagglehub\\datasets\\blanderbuss\\midi-classic-music\\versions\\1\\Pachelbel\n",
      "Paderewski: C:\\Users\\fenn3\\.cache\\kagglehub\\datasets\\blanderbuss\\midi-classic-music\\versions\\1\\Paderewski\n",
      "Paganini: C:\\Users\\fenn3\\.cache\\kagglehub\\datasets\\blanderbuss\\midi-classic-music\\versions\\1\\Paganini\n",
      "Paradisi: C:\\Users\\fenn3\\.cache\\kagglehub\\datasets\\blanderbuss\\midi-classic-music\\versions\\1\\Paradisi\n",
      "Peterson-Berger: C:\\Users\\fenn3\\.cache\\kagglehub\\datasets\\blanderbuss\\midi-classic-music\\versions\\1\\Peterson-Berger\n",
      "Poulenc: C:\\Users\\fenn3\\.cache\\kagglehub\\datasets\\blanderbuss\\midi-classic-music\\versions\\1\\Poulenc\n",
      "Pridhan: C:\\Users\\fenn3\\.cache\\kagglehub\\datasets\\blanderbuss\\midi-classic-music\\versions\\1\\Pridhan\n",
      "Prokofiev: C:\\Users\\fenn3\\.cache\\kagglehub\\datasets\\blanderbuss\\midi-classic-music\\versions\\1\\Prokofiev\n",
      "Rachmaninov: C:\\Users\\fenn3\\.cache\\kagglehub\\datasets\\blanderbuss\\midi-classic-music\\versions\\1\\Rachmaninov\n",
      "Raff: C:\\Users\\fenn3\\.cache\\kagglehub\\datasets\\blanderbuss\\midi-classic-music\\versions\\1\\Raff\n",
      "Ravel: C:\\Users\\fenn3\\.cache\\kagglehub\\datasets\\blanderbuss\\midi-classic-music\\versions\\1\\Ravel\n",
      "Resch: C:\\Users\\fenn3\\.cache\\kagglehub\\datasets\\blanderbuss\\midi-classic-music\\versions\\1\\Resch\n",
      "Rimsky-Korsakov: C:\\Users\\fenn3\\.cache\\kagglehub\\datasets\\blanderbuss\\midi-classic-music\\versions\\1\\Rimsky-Korsakov\n",
      "Rossini: C:\\Users\\fenn3\\.cache\\kagglehub\\datasets\\blanderbuss\\midi-classic-music\\versions\\1\\Rossini\n",
      "Saint-Saens: C:\\Users\\fenn3\\.cache\\kagglehub\\datasets\\blanderbuss\\midi-classic-music\\versions\\1\\Saint-Saens\n",
      "Sarasate: C:\\Users\\fenn3\\.cache\\kagglehub\\datasets\\blanderbuss\\midi-classic-music\\versions\\1\\Sarasate\n",
      "Satie: C:\\Users\\fenn3\\.cache\\kagglehub\\datasets\\blanderbuss\\midi-classic-music\\versions\\1\\Satie\n",
      "Scarlatti: C:\\Users\\fenn3\\.cache\\kagglehub\\datasets\\blanderbuss\\midi-classic-music\\versions\\1\\Scarlatti\n",
      "Schoenberg: C:\\Users\\fenn3\\.cache\\kagglehub\\datasets\\blanderbuss\\midi-classic-music\\versions\\1\\Schoenberg\n",
      "Schubert: C:\\Users\\fenn3\\.cache\\kagglehub\\datasets\\blanderbuss\\midi-classic-music\\versions\\1\\Schubert\n",
      "Schumann: C:\\Users\\fenn3\\.cache\\kagglehub\\datasets\\blanderbuss\\midi-classic-music\\versions\\1\\Schumann\n",
      "Shostakovich: C:\\Users\\fenn3\\.cache\\kagglehub\\datasets\\blanderbuss\\midi-classic-music\\versions\\1\\Shostakovich\n",
      "Sibelius: C:\\Users\\fenn3\\.cache\\kagglehub\\datasets\\blanderbuss\\midi-classic-music\\versions\\1\\Sibelius\n",
      "Sinding: C:\\Users\\fenn3\\.cache\\kagglehub\\datasets\\blanderbuss\\midi-classic-music\\versions\\1\\Sinding\n",
      "Skriabin: C:\\Users\\fenn3\\.cache\\kagglehub\\datasets\\blanderbuss\\midi-classic-music\\versions\\1\\Skriabin\n",
      "Straus: C:\\Users\\fenn3\\.cache\\kagglehub\\datasets\\blanderbuss\\midi-classic-music\\versions\\1\\Straus\n",
      "Straus: C:\\Users\\fenn3\\.cache\\kagglehub\\datasets\\blanderbuss\\midi-classic-music\\versions\\1\\Strauss, J\n",
      "Strauss, J: C:\\Users\\fenn3\\.cache\\kagglehub\\datasets\\blanderbuss\\midi-classic-music\\versions\\1\\Strauss, J\n",
      "Stravinski: C:\\Users\\fenn3\\.cache\\kagglehub\\datasets\\blanderbuss\\midi-classic-music\\versions\\1\\Stravinski\n",
      "Sudds: C:\\Users\\fenn3\\.cache\\kagglehub\\datasets\\blanderbuss\\midi-classic-music\\versions\\1\\Sudds\n",
      "Sullivan: C:\\Users\\fenn3\\.cache\\kagglehub\\datasets\\blanderbuss\\midi-classic-music\\versions\\1\\Sullivan\n",
      "Suppe: C:\\Users\\fenn3\\.cache\\kagglehub\\datasets\\blanderbuss\\midi-classic-music\\versions\\1\\Suppe\n",
      "Swinstead: C:\\Users\\fenn3\\.cache\\kagglehub\\datasets\\blanderbuss\\midi-classic-music\\versions\\1\\Swinstead\n",
      "Tarrega: C:\\Users\\fenn3\\.cache\\kagglehub\\datasets\\blanderbuss\\midi-classic-music\\versions\\1\\Tarrega\n",
      "Taube: C:\\Users\\fenn3\\.cache\\kagglehub\\datasets\\blanderbuss\\midi-classic-music\\versions\\1\\Taube\n",
      "Tchaikovsky: C:\\Users\\fenn3\\.cache\\kagglehub\\datasets\\blanderbuss\\midi-classic-music\\versions\\1\\Tchaikovsky\n",
      "Tchakoff: C:\\Users\\fenn3\\.cache\\kagglehub\\datasets\\blanderbuss\\midi-classic-music\\versions\\1\\Tchakoff\n",
      "Thomas: C:\\Users\\fenn3\\.cache\\kagglehub\\datasets\\blanderbuss\\midi-classic-music\\versions\\1\\Thomas\n",
      "Varios - Título desconocido: C:\\Users\\fenn3\\.cache\\kagglehub\\datasets\\blanderbuss\\midi-classic-music\\versions\\1\\Varios - Título desconocido\n",
      "Vaughan: C:\\Users\\fenn3\\.cache\\kagglehub\\datasets\\blanderbuss\\midi-classic-music\\versions\\1\\Vaughan\n",
      "Verdi: C:\\Users\\fenn3\\.cache\\kagglehub\\datasets\\blanderbuss\\midi-classic-music\\versions\\1\\Verdi\n",
      "Vivaldi: C:\\Users\\fenn3\\.cache\\kagglehub\\datasets\\blanderbuss\\midi-classic-music\\versions\\1\\Vivaldi\n",
      "Wagner: C:\\Users\\fenn3\\.cache\\kagglehub\\datasets\\blanderbuss\\midi-classic-music\\versions\\1\\Wagner\n",
      "Wolf: C:\\Users\\fenn3\\.cache\\kagglehub\\datasets\\blanderbuss\\midi-classic-music\\versions\\1\\Wolf\n"
     ]
    }
   ],
   "source": [
    "# Looking for composers\n",
    "composer_paths = {}\n",
    "\n",
    "for item in os.listdir(path):\n",
    "    item_path = os.path.join(path, item)\n",
    "    if os.path.isdir(item_path):\n",
    "        for composer in composers:\n",
    "            if composer.lower() in item.lower():\n",
    "                composer_paths[composer] = item_path\n",
    "                print(f\"{composer}: {item_path}\")"
   ]
  },
  {
   "cell_type": "code",
   "execution_count": 15,
   "id": "6835e086-0eb7-40e4-8be3-acf64ecb5797",
   "metadata": {},
   "outputs": [
    {
     "name": "stdout",
     "output_type": "stream",
     "text": [
      "Mozart: 180 files\n",
      "Chopin: 272 files\n",
      "Bach: 296 files\n",
      "Beethoven: 280 files\n"
     ]
    }
   ],
   "source": [
    "# Collecting all the files for each composer, including in subfolder\n",
    "def collect_composer_files(base_path, composers=['Mozart', 'Chopin', 'Bach', 'Beethoven']):\n",
    "    composer_files = {composer: [] for composer in composers}\n",
    "    \n",
    "    for root, dirs, files in os.walk(base_path):\n",
    "        current_dir = os.path.basename(root).lower()\n",
    "        for composer in composers:\n",
    "            if composer.lower() in current_dir:\n",
    "                # Collect MIDI files from this directory\n",
    "                midi_files = [os.path.join(root, f) for f in files] \n",
    "                composer_files[composer].extend(midi_files)\n",
    "                break  \n",
    "    \n",
    "    return composer_files\n",
    "\n",
    "composer_files_dict = collect_composer_files(path)\n",
    "\n",
    "for composer, files in composer_files_dict.items():\n",
    "    print(f\"{composer}: {len(files)} files\")"
   ]
  },
  {
   "cell_type": "code",
   "execution_count": 16,
   "id": "f27137fa-7a75-4d91-ab18-548e5f9754fd",
   "metadata": {},
   "outputs": [],
   "source": [
    "# In this instance we'll split our data into train and test sets before doing any feature analysis, to ensure we're avoiding leakage.\n",
    "\n",
    "# Setting random seed for reproducibility\n",
    "random.seed(1)\n",
    "np.random.seed(1)\n",
    "\n",
    "# Creating train and test directories\n",
    "train_dir = os.path.join(path, 'train')\n",
    "test_dir = os.path.join(path, 'test')\n",
    "os.makedirs(train_dir, exist_ok=True)\n",
    "os.makedirs(test_dir, exist_ok=True)"
   ]
  },
  {
   "cell_type": "code",
   "execution_count": 17,
   "id": "d36cfb7f-2087-491c-ba5e-a44e7f3d5bca",
   "metadata": {},
   "outputs": [
    {
     "name": "stdout",
     "output_type": "stream",
     "text": [
      "Train directory: C:\\Users\\fenn3\\.cache\\kagglehub\\datasets\\blanderbuss\\midi-classic-music\\versions\\1\\train\n",
      "Test directory: C:\\Users\\fenn3\\.cache\\kagglehub\\datasets\\blanderbuss\\midi-classic-music\\versions\\1\\test\n"
     ]
    }
   ],
   "source": [
    "# Splitting files for each composer and copy to train/test directories\n",
    "test_size = 0.2 \n",
    "\n",
    "for composer, files in composer_files_dict.items():\n",
    "    train_files, test_files = train_test_split(\n",
    "        files, \n",
    "        test_size=test_size, \n",
    "        random_state=42\n",
    "    )\n",
    "    \n",
    "    # Creating composer subdirectories in train and test\n",
    "    composer_train_dir = os.path.join(train_dir, composer)\n",
    "    composer_test_dir = os.path.join(test_dir, composer)\n",
    "    os.makedirs(composer_train_dir, exist_ok=True)\n",
    "    os.makedirs(composer_test_dir, exist_ok=True)\n",
    "    \n",
    "    # Copying files to train directory\n",
    "    for file_path in train_files:\n",
    "        filename = os.path.basename(file_path)\n",
    "        shutil.copy2(file_path, os.path.join(composer_train_dir, filename))\n",
    "    \n",
    "    # Copying files to test directory\n",
    "    for file_path in test_files:\n",
    "        filename = os.path.basename(file_path)\n",
    "        shutil.copy2(file_path, os.path.join(composer_test_dir, filename))\n",
    "\n",
    "# Printing new paths:\n",
    "print(f\"Train directory: {train_dir}\")\n",
    "print(f\"Test directory: {test_dir}\")"
   ]
  },
  {
   "cell_type": "markdown",
   "id": "4a71afb8-8d79-4def-9308-ad420993cc94",
   "metadata": {},
   "source": [
    "<span style=\"font-size:28px; color:green\">CNN (Convolutional Neural Network)</span>"
   ]
  },
  {
   "cell_type": "markdown",
   "id": "fe4c9e36-d79a-439b-94b4-7e321d31c652",
   "metadata": {},
   "source": [
    "<p style=\"color:red\">\n",
    "We used a type of artificial intelligence called a convolutional neural network to help identify which composer created a piece of music based on its digital piano notes. First, we cleaned and organized the files, then turned the music into a grid-like format that a computer can understand. We trained the model to learn patterns from these musical pieces and tested it to see how well it could recognize different composers. The final results included how accurate the model was and where it made mistakes, which we showed in a chart.\n",
    "</p>\n"
   ]
  },
  {
   "cell_type": "code",
   "execution_count": 28,
   "id": "54f557f1-3356-4b52-9b47-df19939a304f",
   "metadata": {},
   "outputs": [
    {
     "name": "stderr",
     "output_type": "stream",
     "text": [
      "C:\\Users\\fenn3\\anaconda3\\Lib\\site-packages\\pretty_midi\\pretty_midi.py:100: RuntimeWarning: Tempo, Key or Time signature change events found on non-zero tracks.  This is not a valid type 0 or type 1 MIDI file.  Tempo, Key or Time Signature may be wrong.\n",
      "  warnings.warn(\n"
     ]
    },
    {
     "name": "stdout",
     "output_type": "stream",
     "text": [
      "Error with C:\\Users\\fenn3\\.cache\\kagglehub\\datasets\\blanderbuss\\midi-classic-music\\versions\\1\\train\\Beethoven\\Anhang 14-3.mid: Could not decode key with 3 flats and mode 255\n",
      "Error with C:\\Users\\fenn3\\.cache\\kagglehub\\datasets\\blanderbuss\\midi-classic-music\\versions\\1\\test\\Beethoven\\Anhang 14-3.mid: Could not decode key with 3 flats and mode 255\n"
     ]
    },
    {
     "name": "stderr",
     "output_type": "stream",
     "text": [
      "C:\\Users\\fenn3\\anaconda3\\Lib\\site-packages\\keras\\src\\layers\\convolutional\\base_conv.py:113: UserWarning: Do not pass an `input_shape`/`input_dim` argument to a layer. When using Sequential models, prefer using an `Input(shape)` object as the first layer in the model instead.\n",
      "  super().__init__(activity_regularizer=activity_regularizer, **kwargs)\n"
     ]
    },
    {
     "data": {
      "text/html": [
       "<pre style=\"white-space:pre;overflow-x:auto;line-height:normal;font-family:Menlo,'DejaVu Sans Mono',consolas,'Courier New',monospace\"><span style=\"font-weight: bold\">Model: \"sequential_5\"</span>\n",
       "</pre>\n"
      ],
      "text/plain": [
       "\u001b[1mModel: \"sequential_5\"\u001b[0m\n"
      ]
     },
     "metadata": {},
     "output_type": "display_data"
    },
    {
     "data": {
      "text/html": [
       "<pre style=\"white-space:pre;overflow-x:auto;line-height:normal;font-family:Menlo,'DejaVu Sans Mono',consolas,'Courier New',monospace\">┏━━━━━━━━━━━━━━━━━━━━━━━━━━━━━━━━━┳━━━━━━━━━━━━━━━━━━━━━━━━┳━━━━━━━━━━━━━━━┓\n",
       "┃<span style=\"font-weight: bold\"> Layer (type)                    </span>┃<span style=\"font-weight: bold\"> Output Shape           </span>┃<span style=\"font-weight: bold\">       Param # </span>┃\n",
       "┡━━━━━━━━━━━━━━━━━━━━━━━━━━━━━━━━━╇━━━━━━━━━━━━━━━━━━━━━━━━╇━━━━━━━━━━━━━━━┩\n",
       "│ conv2d_10 (<span style=\"color: #0087ff; text-decoration-color: #0087ff\">Conv2D</span>)              │ (<span style=\"color: #00d7ff; text-decoration-color: #00d7ff\">None</span>, <span style=\"color: #00af00; text-decoration-color: #00af00\">98</span>, <span style=\"color: #00af00; text-decoration-color: #00af00\">126</span>, <span style=\"color: #00af00; text-decoration-color: #00af00\">32</span>)    │           <span style=\"color: #00af00; text-decoration-color: #00af00\">320</span> │\n",
       "├─────────────────────────────────┼────────────────────────┼───────────────┤\n",
       "│ max_pooling2d_10 (<span style=\"color: #0087ff; text-decoration-color: #0087ff\">MaxPooling2D</span>) │ (<span style=\"color: #00d7ff; text-decoration-color: #00d7ff\">None</span>, <span style=\"color: #00af00; text-decoration-color: #00af00\">49</span>, <span style=\"color: #00af00; text-decoration-color: #00af00\">63</span>, <span style=\"color: #00af00; text-decoration-color: #00af00\">32</span>)     │             <span style=\"color: #00af00; text-decoration-color: #00af00\">0</span> │\n",
       "├─────────────────────────────────┼────────────────────────┼───────────────┤\n",
       "│ conv2d_11 (<span style=\"color: #0087ff; text-decoration-color: #0087ff\">Conv2D</span>)              │ (<span style=\"color: #00d7ff; text-decoration-color: #00d7ff\">None</span>, <span style=\"color: #00af00; text-decoration-color: #00af00\">47</span>, <span style=\"color: #00af00; text-decoration-color: #00af00\">61</span>, <span style=\"color: #00af00; text-decoration-color: #00af00\">64</span>)     │        <span style=\"color: #00af00; text-decoration-color: #00af00\">18,496</span> │\n",
       "├─────────────────────────────────┼────────────────────────┼───────────────┤\n",
       "│ max_pooling2d_11 (<span style=\"color: #0087ff; text-decoration-color: #0087ff\">MaxPooling2D</span>) │ (<span style=\"color: #00d7ff; text-decoration-color: #00d7ff\">None</span>, <span style=\"color: #00af00; text-decoration-color: #00af00\">23</span>, <span style=\"color: #00af00; text-decoration-color: #00af00\">30</span>, <span style=\"color: #00af00; text-decoration-color: #00af00\">64</span>)     │             <span style=\"color: #00af00; text-decoration-color: #00af00\">0</span> │\n",
       "├─────────────────────────────────┼────────────────────────┼───────────────┤\n",
       "│ flatten_5 (<span style=\"color: #0087ff; text-decoration-color: #0087ff\">Flatten</span>)             │ (<span style=\"color: #00d7ff; text-decoration-color: #00d7ff\">None</span>, <span style=\"color: #00af00; text-decoration-color: #00af00\">44160</span>)          │             <span style=\"color: #00af00; text-decoration-color: #00af00\">0</span> │\n",
       "├─────────────────────────────────┼────────────────────────┼───────────────┤\n",
       "│ dense_10 (<span style=\"color: #0087ff; text-decoration-color: #0087ff\">Dense</span>)                │ (<span style=\"color: #00d7ff; text-decoration-color: #00d7ff\">None</span>, <span style=\"color: #00af00; text-decoration-color: #00af00\">64</span>)             │     <span style=\"color: #00af00; text-decoration-color: #00af00\">2,826,304</span> │\n",
       "├─────────────────────────────────┼────────────────────────┼───────────────┤\n",
       "│ dense_11 (<span style=\"color: #0087ff; text-decoration-color: #0087ff\">Dense</span>)                │ (<span style=\"color: #00d7ff; text-decoration-color: #00d7ff\">None</span>, <span style=\"color: #00af00; text-decoration-color: #00af00\">4</span>)              │           <span style=\"color: #00af00; text-decoration-color: #00af00\">260</span> │\n",
       "└─────────────────────────────────┴────────────────────────┴───────────────┘\n",
       "</pre>\n"
      ],
      "text/plain": [
       "┏━━━━━━━━━━━━━━━━━━━━━━━━━━━━━━━━━┳━━━━━━━━━━━━━━━━━━━━━━━━┳━━━━━━━━━━━━━━━┓\n",
       "┃\u001b[1m \u001b[0m\u001b[1mLayer (type)                   \u001b[0m\u001b[1m \u001b[0m┃\u001b[1m \u001b[0m\u001b[1mOutput Shape          \u001b[0m\u001b[1m \u001b[0m┃\u001b[1m \u001b[0m\u001b[1m      Param #\u001b[0m\u001b[1m \u001b[0m┃\n",
       "┡━━━━━━━━━━━━━━━━━━━━━━━━━━━━━━━━━╇━━━━━━━━━━━━━━━━━━━━━━━━╇━━━━━━━━━━━━━━━┩\n",
       "│ conv2d_10 (\u001b[38;5;33mConv2D\u001b[0m)              │ (\u001b[38;5;45mNone\u001b[0m, \u001b[38;5;34m98\u001b[0m, \u001b[38;5;34m126\u001b[0m, \u001b[38;5;34m32\u001b[0m)    │           \u001b[38;5;34m320\u001b[0m │\n",
       "├─────────────────────────────────┼────────────────────────┼───────────────┤\n",
       "│ max_pooling2d_10 (\u001b[38;5;33mMaxPooling2D\u001b[0m) │ (\u001b[38;5;45mNone\u001b[0m, \u001b[38;5;34m49\u001b[0m, \u001b[38;5;34m63\u001b[0m, \u001b[38;5;34m32\u001b[0m)     │             \u001b[38;5;34m0\u001b[0m │\n",
       "├─────────────────────────────────┼────────────────────────┼───────────────┤\n",
       "│ conv2d_11 (\u001b[38;5;33mConv2D\u001b[0m)              │ (\u001b[38;5;45mNone\u001b[0m, \u001b[38;5;34m47\u001b[0m, \u001b[38;5;34m61\u001b[0m, \u001b[38;5;34m64\u001b[0m)     │        \u001b[38;5;34m18,496\u001b[0m │\n",
       "├─────────────────────────────────┼────────────────────────┼───────────────┤\n",
       "│ max_pooling2d_11 (\u001b[38;5;33mMaxPooling2D\u001b[0m) │ (\u001b[38;5;45mNone\u001b[0m, \u001b[38;5;34m23\u001b[0m, \u001b[38;5;34m30\u001b[0m, \u001b[38;5;34m64\u001b[0m)     │             \u001b[38;5;34m0\u001b[0m │\n",
       "├─────────────────────────────────┼────────────────────────┼───────────────┤\n",
       "│ flatten_5 (\u001b[38;5;33mFlatten\u001b[0m)             │ (\u001b[38;5;45mNone\u001b[0m, \u001b[38;5;34m44160\u001b[0m)          │             \u001b[38;5;34m0\u001b[0m │\n",
       "├─────────────────────────────────┼────────────────────────┼───────────────┤\n",
       "│ dense_10 (\u001b[38;5;33mDense\u001b[0m)                │ (\u001b[38;5;45mNone\u001b[0m, \u001b[38;5;34m64\u001b[0m)             │     \u001b[38;5;34m2,826,304\u001b[0m │\n",
       "├─────────────────────────────────┼────────────────────────┼───────────────┤\n",
       "│ dense_11 (\u001b[38;5;33mDense\u001b[0m)                │ (\u001b[38;5;45mNone\u001b[0m, \u001b[38;5;34m4\u001b[0m)              │           \u001b[38;5;34m260\u001b[0m │\n",
       "└─────────────────────────────────┴────────────────────────┴───────────────┘\n"
      ]
     },
     "metadata": {},
     "output_type": "display_data"
    },
    {
     "data": {
      "text/html": [
       "<pre style=\"white-space:pre;overflow-x:auto;line-height:normal;font-family:Menlo,'DejaVu Sans Mono',consolas,'Courier New',monospace\"><span style=\"font-weight: bold\"> Total params: </span><span style=\"color: #00af00; text-decoration-color: #00af00\">2,845,380</span> (10.85 MB)\n",
       "</pre>\n"
      ],
      "text/plain": [
       "\u001b[1m Total params: \u001b[0m\u001b[38;5;34m2,845,380\u001b[0m (10.85 MB)\n"
      ]
     },
     "metadata": {},
     "output_type": "display_data"
    },
    {
     "data": {
      "text/html": [
       "<pre style=\"white-space:pre;overflow-x:auto;line-height:normal;font-family:Menlo,'DejaVu Sans Mono',consolas,'Courier New',monospace\"><span style=\"font-weight: bold\"> Trainable params: </span><span style=\"color: #00af00; text-decoration-color: #00af00\">2,845,380</span> (10.85 MB)\n",
       "</pre>\n"
      ],
      "text/plain": [
       "\u001b[1m Trainable params: \u001b[0m\u001b[38;5;34m2,845,380\u001b[0m (10.85 MB)\n"
      ]
     },
     "metadata": {},
     "output_type": "display_data"
    },
    {
     "data": {
      "text/html": [
       "<pre style=\"white-space:pre;overflow-x:auto;line-height:normal;font-family:Menlo,'DejaVu Sans Mono',consolas,'Courier New',monospace\"><span style=\"font-weight: bold\"> Non-trainable params: </span><span style=\"color: #00af00; text-decoration-color: #00af00\">0</span> (0.00 B)\n",
       "</pre>\n"
      ],
      "text/plain": [
       "\u001b[1m Non-trainable params: \u001b[0m\u001b[38;5;34m0\u001b[0m (0.00 B)\n"
      ]
     },
     "metadata": {},
     "output_type": "display_data"
    },
    {
     "name": "stdout",
     "output_type": "stream",
     "text": [
      "Epoch 1/50\n",
      "\u001b[1m8/8\u001b[0m \u001b[32m━━━━━━━━━━━━━━━━━━━━\u001b[0m\u001b[37m\u001b[0m \u001b[1m2s\u001b[0m 130ms/step - accuracy: 0.2724 - loss: 14.1141 - val_accuracy: 0.3833 - val_loss: 3.6104\n",
      "Epoch 2/50\n",
      "\u001b[1m8/8\u001b[0m \u001b[32m━━━━━━━━━━━━━━━━━━━━\u001b[0m\u001b[37m\u001b[0m \u001b[1m1s\u001b[0m 104ms/step - accuracy: 0.4873 - loss: 2.2400 - val_accuracy: 0.4778 - val_loss: 1.2876\n",
      "Epoch 3/50\n",
      "\u001b[1m8/8\u001b[0m \u001b[32m━━━━━━━━━━━━━━━━━━━━\u001b[0m\u001b[37m\u001b[0m \u001b[1m1s\u001b[0m 103ms/step - accuracy: 0.4991 - loss: 1.1552 - val_accuracy: 0.5833 - val_loss: 1.1166\n",
      "Epoch 4/50\n",
      "\u001b[1m8/8\u001b[0m \u001b[32m━━━━━━━━━━━━━━━━━━━━\u001b[0m\u001b[37m\u001b[0m \u001b[1m1s\u001b[0m 102ms/step - accuracy: 0.6615 - loss: 1.0233 - val_accuracy: 0.6556 - val_loss: 0.9835\n",
      "Epoch 5/50\n",
      "\u001b[1m8/8\u001b[0m \u001b[32m━━━━━━━━━━━━━━━━━━━━\u001b[0m\u001b[37m\u001b[0m \u001b[1m1s\u001b[0m 104ms/step - accuracy: 0.6650 - loss: 0.9245 - val_accuracy: 0.7056 - val_loss: 0.7955\n",
      "Epoch 6/50\n",
      "\u001b[1m8/8\u001b[0m \u001b[32m━━━━━━━━━━━━━━━━━━━━\u001b[0m\u001b[37m\u001b[0m \u001b[1m1s\u001b[0m 102ms/step - accuracy: 0.7555 - loss: 0.7138 - val_accuracy: 0.8111 - val_loss: 0.6257\n",
      "Epoch 7/50\n",
      "\u001b[1m8/8\u001b[0m \u001b[32m━━━━━━━━━━━━━━━━━━━━\u001b[0m\u001b[37m\u001b[0m \u001b[1m1s\u001b[0m 103ms/step - accuracy: 0.8491 - loss: 0.5003 - val_accuracy: 0.8667 - val_loss: 0.4916\n",
      "Epoch 8/50\n",
      "\u001b[1m8/8\u001b[0m \u001b[32m━━━━━━━━━━━━━━━━━━━━\u001b[0m\u001b[37m\u001b[0m \u001b[1m1s\u001b[0m 104ms/step - accuracy: 0.9264 - loss: 0.3248 - val_accuracy: 0.9222 - val_loss: 0.3977\n",
      "Epoch 9/50\n",
      "\u001b[1m8/8\u001b[0m \u001b[32m━━━━━━━━━━━━━━━━━━━━\u001b[0m\u001b[37m\u001b[0m \u001b[1m1s\u001b[0m 103ms/step - accuracy: 0.9750 - loss: 0.1780 - val_accuracy: 0.9222 - val_loss: 0.3837\n",
      "Epoch 10/50\n",
      "\u001b[1m8/8\u001b[0m \u001b[32m━━━━━━━━━━━━━━━━━━━━\u001b[0m\u001b[37m\u001b[0m \u001b[1m1s\u001b[0m 109ms/step - accuracy: 0.9719 - loss: 0.1115 - val_accuracy: 0.9333 - val_loss: 0.3694\n",
      "Epoch 11/50\n",
      "\u001b[1m8/8\u001b[0m \u001b[32m━━━━━━━━━━━━━━━━━━━━\u001b[0m\u001b[37m\u001b[0m \u001b[1m1s\u001b[0m 102ms/step - accuracy: 0.9839 - loss: 0.0659 - val_accuracy: 0.9333 - val_loss: 0.4252\n",
      "Epoch 12/50\n",
      "\u001b[1m8/8\u001b[0m \u001b[32m━━━━━━━━━━━━━━━━━━━━\u001b[0m\u001b[37m\u001b[0m \u001b[1m1s\u001b[0m 100ms/step - accuracy: 0.9753 - loss: 0.0600 - val_accuracy: 0.9333 - val_loss: 0.4328\n",
      "Epoch 13/50\n",
      "\u001b[1m8/8\u001b[0m \u001b[32m━━━━━━━━━━━━━━━━━━━━\u001b[0m\u001b[37m\u001b[0m \u001b[1m1s\u001b[0m 100ms/step - accuracy: 0.9839 - loss: 0.0373 - val_accuracy: 0.9389 - val_loss: 0.4675\n",
      "Epoch 14/50\n",
      "\u001b[1m8/8\u001b[0m \u001b[32m━━━━━━━━━━━━━━━━━━━━\u001b[0m\u001b[37m\u001b[0m \u001b[1m1s\u001b[0m 102ms/step - accuracy: 0.9934 - loss: 0.0207 - val_accuracy: 0.9389 - val_loss: 0.4950\n",
      "Epoch 15/50\n",
      "\u001b[1m8/8\u001b[0m \u001b[32m━━━━━━━━━━━━━━━━━━━━\u001b[0m\u001b[37m\u001b[0m \u001b[1m1s\u001b[0m 102ms/step - accuracy: 0.9895 - loss: 0.0294 - val_accuracy: 0.9389 - val_loss: 0.5084\n",
      "\u001b[1m6/6\u001b[0m \u001b[32m━━━━━━━━━━━━━━━━━━━━\u001b[0m\u001b[37m\u001b[0m \u001b[1m0s\u001b[0m 30ms/step\n",
      "Classification Report:\n",
      "              precision    recall  f1-score   support\n",
      "\n",
      "        Bach       0.98      0.94      0.96        51\n",
      "   Beethoven       0.88      0.93      0.91        46\n",
      "      Chopin       0.94      0.96      0.95        51\n",
      "      Mozart       0.93      0.88      0.90        32\n",
      "\n",
      "    accuracy                           0.93       180\n",
      "   macro avg       0.93      0.93      0.93       180\n",
      "weighted avg       0.93      0.93      0.93       180\n",
      "\n"
     ]
    },
    {
     "data": {
      "image/png": "[encoded data removed]",
      "text/plain": [
       "<Figure size 800x600 with 2 Axes>"
      ]
     },
     "metadata": {},
     "output_type": "display_data"
    }
   ],
   "source": [
    "##Thinking we should combine these at the end, but will keep them here for now\n",
    "\n",
    "import os\n",
    "import numpy as np\n",
    "import pretty_midi\n",
    "import matplotlib.pyplot as plt\n",
    "import seaborn as sns\n",
    "\n",
    "from sklearn.preprocessing import LabelEncoder\n",
    "from sklearn.metrics import classification_report, confusion_matrix\n",
    "from tensorflow.keras.utils import to_categorical\n",
    "from tensorflow.keras.models import Sequential\n",
    "from tensorflow.keras.layers import Conv2D, MaxPooling2D, Flatten, Dense\n",
    "from tensorflow.keras.callbacks import EarlyStopping\n",
    "\n",
    "# https://craffel.github.io/pretty-midi/\n",
    "\n",
    "def midi_to_piano_roll(file_path, time_resolution=0.05, width=100, height=128):\n",
    "    \"\"\"\n",
    "    Convert MIDI file into a fixed-size piano roll for input into the CNN model.\n",
    "    This function turns a MIDI file into a 2D array (time x pitch), where each\n",
    "    value represents how strongly a note is played at a given time step and pitch.\n",
    "    The result is padded or cropped to ensure all arrays are the same shape.\n",
    "    \"\"\"\n",
    "    try:\n",
    "        midi = pretty_midi.PrettyMIDI(file_path)     # Load the MIDI file\n",
    "        piano_roll = midi.get_piano_roll(fs=int(1 / time_resolution))  # 20 per second since 1 per second makes it difficult to catch fast notes\n",
    "        cropped = piano_roll[:height, :width]       # Crop to fixed height and width\n",
    "        padded = np.zeros((height, width))         # Create blank piano roll of desired size\n",
    "        padded[:cropped.shape[0], :cropped.shape[1]] = cropped   # Paste cropped roll onto blank canvas\n",
    "        return padded.T                    # Transpose to time and pitch so we can use it for CNN\n",
    "    except Exception as e:\n",
    "        print(f\"Error with {file_path}: {e}\")                    # Print any errors and skip the file, mostly because I did have some errors\n",
    "        return None                                              # Return None if something goes wrong\n",
    "\n",
    "\n",
    "def load_data(root_dir):\n",
    "    \"\"\"\n",
    "    Loads MIDI data from a directory structure where each subfolder represents a composer.\n",
    "    For each composer folder all midi files are processed into fixed size piano rolls using midi_to_piano_roll() that we just defined.\n",
    "\n",
    "    Returns:\n",
    "    X is the NumPy array of shape ready for CNN input.\n",
    "    y is the  NumPy array of composer labels.\n",
    "    \"\"\"\n",
    "    X, y = [], []  # Initialize lists for piano roll data and composer labels\n",
    "\n",
    "    for composer in os.listdir(root_dir):  # Loop through each composer \n",
    "        composer_dir = os.path.join(root_dir, composer)  # Build full path to the composer's folder\n",
    "        if os.path.isdir(composer_dir):  # Ensure it's a directory \n",
    "            for file in os.listdir(composer_dir):  # Loop through each file in the composer's folder\n",
    "                if file.endswith(\".mid\") or file.endswith(\".midi\"):  # Only process MIDI files, should all be but just in case\n",
    "                    file_path = os.path.join(composer_dir, file)  # Get full path to the MIDI file\n",
    "\n",
    "                    roll = midi_to_piano_roll(file_path)  # Convert MIDI to piano roll previously defined\n",
    "\n",
    "                    if roll is not None:  # Only include successfully processed files\n",
    "                        X.append(roll)  # Add piano roll data to input list\n",
    "                        y.append(composer)  # Add corresponding composer label\n",
    "\n",
    "    return np.array(X)[..., np.newaxis], np.array(y)  # Return arrays\n",
    "\n",
    "\n",
    "# Use the already existing train and test data\n",
    "X_train, y_train = load_data(train_dir)\n",
    "X_test, y_test = load_data(test_dir)\n",
    "\n",
    "# Match labels, think this was already done somewhere else but doing again just to save time\n",
    "label_encoder = LabelEncoder()\n",
    "y_train_enc = to_categorical(label_encoder.fit_transform(y_train))\n",
    "y_test_enc = to_categorical(label_encoder.transform(y_test))\n",
    "\n",
    "# Build a simple CNN model\n",
    "# https://keras.io/guides/sequential_model/\n",
    "model = Sequential([\n",
    "    Conv2D(32, (3, 3), activation=\"relu\", input_shape=(X_train.shape[1], X_train.shape[2], 1)),  # conv layer 1\n",
    "    MaxPooling2D((2, 2)),  # pooling 1\n",
    "    Conv2D(64, (3, 3), activation=\"relu\"),  # conv layer 2\n",
    "    MaxPooling2D((2, 2)),  # pooling 2\n",
    "    Flatten(),  # flatten to 1D\n",
    "    Dense(64, activation=\"relu\"),  # dense layer\n",
    "    Dense(len(label_encoder.classes_), activation=\"softmax\")])  # output layer, used softmax since we are using multiclass labels\n",
    "\n",
    "# Using Adam optimizer for efficient training, categorical crossentropy for multiclass labels, and accuracy to track performance\n",
    "model.compile(optimizer = \"adam\", loss = \"categorical_crossentropy\", metrics = [\"accuracy\"])\n",
    "model.summary()\n",
    "\n",
    "#Train and add early_stop so I know it is improving\n",
    "\n",
    "early_stop = EarlyStopping(patience=5, restore_best_weights=True)\n",
    "\n",
    "#https://www.tensorflow.org/api_docs/python/tf/keras/callbacks/History\n",
    "history = model.fit(\n",
    "    X_train, y_train_enc,\n",
    "    epochs=50,  #may be high, but find the stop usually only brings it out to about 10 anyway\n",
    "    batch_size = 64,  #tried multiple and this seems to perform best\n",
    "    validation_data=(X_test, y_test_enc), #maybe should also get validation data?\n",
    "    callbacks=[early_stop])\n",
    "\n",
    "# Evaluate performance\n",
    "y_pred_probs = model.predict(X_test)\n",
    "y_pred = np.argmax(y_pred_probs, axis=1)\n",
    "y_true = np.argmax(y_test_enc, axis=1)\n",
    "\n",
    "# Get performance metrics\n",
    "report = classification_report(y_true, y_pred, target_names=label_encoder.classes_, output_dict=True)\n",
    "conf_matrix = confusion_matrix(y_true, y_pred)\n",
    "\n",
    "# Save results for comparison later to the LSTM model\n",
    "cnn_results = {\n",
    "    \"classification_report\": report,\n",
    "    \"confusion_matrix\": conf_matrix.tolist(),\n",
    "    \"classes\": label_encoder.classes_.tolist()}\n",
    "\n",
    "# Show classification report\n",
    "print(\"Classification Report:\")\n",
    "print(classification_report(y_true, y_pred, target_names=label_encoder.classes_))\n",
    "\n",
    "# Visualize confusion matrix in green\n",
    "plt.figure(figsize=(8, 6))\n",
    "sns.heatmap(conf_matrix,annot = True, cmap=\"Greens\",  xticklabels = label_encoder.classes_, yticklabels = label_encoder.classes_)\n",
    "plt.xlabel(\"Predicted\")\n",
    "plt.ylabel(\"True\")\n",
    "plt.title(\"CNN Confusion Matrix\")\n",
    "plt.tight_layout()\n",
    "plt.show()"
   ]
  },
  {
   "cell_type": "code",
   "execution_count": null,
   "id": "1220fbff-b038-47a9-b633-e8ea8a3a23ed",
   "metadata": {},
   "outputs": [],
   "source": []
  }
 ],
 "metadata": {
  "kernelspec": {
   "display_name": "Python [conda env:base] *",
   "language": "python",
   "name": "conda-base-py"
  },
  "language_info": {
   "codemirror_mode": {
    "name": "ipython",
    "version": 3
   },
   "file_extension": ".py",
   "mimetype": "text/x-python",
   "name": "python",
   "nbconvert_exporter": "python",
   "pygments_lexer": "ipython3",
   "version": "3.12.7"
  }
 },
 "nbformat": 4,
 "nbformat_minor": 5
}
